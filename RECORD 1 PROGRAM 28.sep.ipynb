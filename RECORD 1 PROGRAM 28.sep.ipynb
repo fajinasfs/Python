{
 "cells": [
  {
   "cell_type": "code",
   "execution_count": 1,
   "id": "ce5039c9",
   "metadata": {},
   "outputs": [
    {
     "name": "stdout",
     "output_type": "stream",
     "text": [
      "1) Write a program to find area of a circle\n",
      "\n",
      "\n",
      "enter the area of the circle :4\n",
      "Area of the circle = 50.24\n"
     ]
    }
   ],
   "source": [
    "print(\"1) Write a program to find area of a circle\")\n",
    "print(\"\\n\")\n",
    "r=int(input(\"enter the area of the circle :\"))\n",
    "pi=3.14\n",
    "a=pi*r*r\n",
    "print(\"Area of the circle =\",a)"
   ]
  },
  {
   "cell_type": "code",
   "execution_count": 2,
   "id": "34db683c",
   "metadata": {},
   "outputs": [
    {
     "name": "stdout",
     "output_type": "stream",
     "text": [
      "\n",
      "\n",
      "enter a intiger number :5\n",
      "5+55+555=615\n"
     ]
    }
   ],
   "source": [
    "#(\"2)write a python program to accept an intiger n and compute n+nn+nnn.\")\n",
    "print('\\n')\n",
    "n=input(\"enter a intiger number :\")\n",
    "R=int(n)+int(n*2)+int(n*3)\n",
    "print(F\"{n}+{n*2}+{n*3}={R}\")"
   ]
  },
  {
   "cell_type": "code",
   "execution_count": 5,
   "id": "61ec363e",
   "metadata": {},
   "outputs": [
    {
     "name": "stdout",
     "output_type": "stream",
     "text": [
      "\n",
      "\n",
      "enter first number :5\n",
      "enter the second number :9\n",
      "enter the third number :56\n",
      "maximum of three numbers = 56.0\n"
     ]
    }
   ],
   "source": [
    "# 3) write a program to find the biggest of three numbers\n",
    "print(\"\\n\")\n",
    "import math\n",
    "a=float(input(\"enter first number :\"))\n",
    "b=float(input(\"enter the second number :\"))\n",
    "c=float(input(\"enter the third number :\"))\n",
    "maximum=max(a,b,c)\n",
    "print(\"maximum of three numbers =\",maximum)\n"
   ]
  },
  {
   "cell_type": "code",
   "execution_count": null,
   "id": "e49496b4",
   "metadata": {},
   "outputs": [],
   "source": []
  }
 ],
 "metadata": {
  "kernelspec": {
   "display_name": "Python 3 (ipykernel)",
   "language": "python",
   "name": "python3"
  },
  "language_info": {
   "codemirror_mode": {
    "name": "ipython",
    "version": 3
   },
   "file_extension": ".py",
   "mimetype": "text/x-python",
   "name": "python",
   "nbconvert_exporter": "python",
   "pygments_lexer": "ipython3",
   "version": "3.11.5"
  }
 },
 "nbformat": 4,
 "nbformat_minor": 5
}
