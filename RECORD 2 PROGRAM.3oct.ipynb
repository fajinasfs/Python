
{
 "cells": [
  {
   "cell_type": "code",
   "execution_count": 1,
   "id": "2043f602",
   "metadata": {},
   "outputs": [
    {
     "name": "stdout",
     "output_type": "stream",
     "text": [
      "enter the the celsius temp=23\n",
      "faranhiet temperature= 73.4\n"
     ]
    }
   ],
   "source": [
    "# Celsius to Fahrenheit \n",
    "c=int(input(\"enter the the celsius temp=\"))\n",
    "f=(c*1.8)+32\n",
    "print(\"faranhiet temperature=\",f)\n"
   ]
  },
  {
   "cell_type": "code",
   "execution_count": 7,
   "id": "fb3dae77",
   "metadata": {},
   "outputs": [
    {
     "name": "stdout",
     "output_type": "stream",
     "text": [
      "enter the kilometer :2\n",
      "2 miles = 1.24274 \n"
     ]
    }
   ],
   "source": [
    "#Python program to convert kilometers to miles \n",
    "\n",
    "k=int(input(\"enter the kilometer :\"))\n",
    "m=k*0.62137\n",
    "print(\"{} miles = {} \".format(k,m))"
   ]
  },
  {
   "cell_type": "code",
   "execution_count": 19,
   "id": "1a0e9004",
   "metadata": {},
   "outputs": [
    {
     "name": "stdout",
     "output_type": "stream",
     "text": [
      "enter the price of product A:120\n",
      "enter the price of product B:80\n",
      "enter the price of product C30\n",
      "total price = 230\n",
      "\n",
      "\n",
      "final price(after 15% discount) = 195.5\n",
      "avarage price of products= 76.67\n",
      "product A is more expensive than final price = false\n",
      "product B is more expensive than final price = false\n",
      "product C is more expensive than final price = false\n",
      "final price is in the range of $50 to $200 = true\n"
     ]
    }
   ],
   "source": [
    "# price of products .\n",
    "\n",
    "A=int(input(\"enter the price of product A:\"))\n",
    "B=int(input(\"enter the price of product B:\"))\n",
    "C=int(input(\"enter the price of product C\"))\n",
    "T=A+B+C\n",
    "print(\"total price =\",T)\n",
    "D=(T*15)/100\n",
    "F=T-D\n",
    "print(\"\\n\")\n",
    "\n",
    "print(\"final price(after 15% discount) =\",F)\n",
    "avg=(A+B+C)/3\n",
    "print(f\"avarage price of products= {avg:.2f}\")\n",
    "if(A>F):\n",
    "     print(\"product A is more expensive than final price= true\")\n",
    "else:\n",
    "     print(\"product A is more expensive than final price = false\")\n",
    "if(B>F):\n",
    "     print(\"product B is more expensive than final price = true\")\n",
    "else:\n",
    "     print(\"product B is more expensive than final price = false\")\n",
    "if(C>F):\n",
    "     print(\"product C is more expensive than final price = true\")\n",
    "else:\n",
    "     print(\"product C is more expensive than final price = false\")\n",
    "if(F>=50 and f<=200):\n",
    "     print(\"final price is in the range of $50 to $200 = true\")\n",
    "else:\n",
    "     print(\"final price is in the range of $50 to $200 = false\")"
   ]
  },
  {
   "cell_type": "code",
   "execution_count": null,
   "id": "eae98438",
   "metadata": {},
   "outputs": [],
   "source": []
  },
  {
   "cell_type": "code",
   "execution_count": null,
   "id": "081954de",
   "metadata": {},
   "outputs": [],
   "source": []
  }
 ],
 "metadata": {
  "kernelspec": {
   "display_name": "Python 3 (ipykernel)",
   "language": "python",
   "name": "python3"
  },
  "language_info": {
   "codemirror_mode": {
    "name": "ipython",
    "version": 3
   },
   "file_extension": ".py",
   "mimetype": "text/x-python",
   "name": "python",
   "nbconvert_exporter": "python",
   "pygments_lexer": "ipython3",
   "version": "3.11.5"
  }
 },
 "nbformat": 4,
 "nbformat_minor": 5
}
