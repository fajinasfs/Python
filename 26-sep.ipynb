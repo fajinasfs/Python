
{
 "cells": [
  {
   "cell_type": "code",
   "execution_count": 1,
   "id": "f3a50a11",
   "metadata": {},
   "outputs": [
    {
     "name": "stdout",
     "output_type": "stream",
     "text": [
      "enter the side of a square : 5\n",
      "area of the square = 25\n",
      "\n",
      "\n",
      "\n",
      "2) Area of a right angled triangle.\n"
     ]
    }
   ],
   "source": [
    "s=int(input(\"enter the side of a square : \"))\n",
    "area=s*s\n",
    "print(\"area of the square =\",area)\n",
    "print(\"\\n\\n\")\n",
    "\n",
    "\n",
    "\n",
    "print(\"2) Area of a right angled triangle.\")"
   ]
  },
  {
   "cell_type": "code",
   "execution_count": 2,
   "id": "09214b77",
   "metadata": {},
   "outputs": [
    {
     "name": "stdout",
     "output_type": "stream",
     "text": [
      "enter the base of a triangle :4\n",
      "enter the hight :2\n",
      "area of the right angled triangle =  4.0\n",
      "\n",
      "\n",
      "\n",
      "3) Greeting a name with ! mark.\n"
     ]
    }
   ],
   "source": [
    "b=int(input(\"enter the base of a triangle :\"))\n",
    "h=int(input(\"enter the hight :\"))\n",
    "area=(b*h)/2\n",
    "print(\"area of the right angled triangle = \",area)\n",
    "print(\"\\n\\n\")\n",
    "print(\"3) Greeting a name with ! mark.\")"
   ]
  },
  {
   "cell_type": "code",
   "execution_count": 3,
   "id": "2730826c",
   "metadata": {},
   "outputs": [
    {
     "name": "stdout",
     "output_type": "stream",
     "text": [
      "enter the name :Fajinas\n",
      "hello,Fajinas!\n",
      "\n",
      "\n",
      "\n",
      "4) Reading previous and next number of a intiger number.\n"
     ]
    }
   ],
   "source": [
    "n=input(\"enter the name :\")\n",
    "print(\"hello,\"+ n +\"!\")\n",
    "print(\"\\n\\n\")\n",
    "print(\"4) Reading previous and next number of a intiger number.\")"
   ]
  },
  {
   "cell_type": "code",
   "execution_count": 6,
   "id": "392dc2f5",
   "metadata": {},
   "outputs": [
    {
     "name": "stdout",
     "output_type": "stream",
     "text": [
      "enter the number :1000\n",
      "the previous number = 999\n",
      "the next number is = 1001\n",
      "\n",
      "\n",
      "\n",
      "5) Program to compute the simple interest.\n"
     ]
    }
   ],
   "source": [
    "numb=int(input(\"enter the number :\"))\n",
    "p=numb-1\n",
    "n=numb+1\n",
    "print(\"the previous number =\",p)\n",
    "print(\"the next number is =\",n)\n",
    "print(\"\\n\\n\")\n",
    "print(\"5) Program to compute the simple interest.\")"
   ]
  },
  {
   "cell_type": "code",
   "execution_count": 5,
   "id": "b6f6d57e",
   "metadata": {},
   "outputs": [
    {
     "name": "stdout",
     "output_type": "stream",
     "text": [
      "enter the principle amount :1000\n",
      "enter the intrest rate :5\n",
      "enter the year :2\n",
      "interest = 100.0\n"
     ]
    }
   ],
   "source": [
    "p=int(input(\"enter the principle amount :\"))\n",
    "r=float(input(\"enter the intrest rate :\"))\n",
    "y=int(input(\"enter the year :\"))\n",
    "interest=(p*r*y)/100\n",
    "print(\"interest =\",interest)"
   ]
  },
  {
   "cell_type": "code",
   "execution_count": null,
   "id": "5c8afe90",
   "metadata": {},
   "outputs": [],
   "source": []
  }
 ],
 "metadata": {
  "kernelspec": {
   "display_name": "Python 3 (ipykernel)",
   "language": "python",
   "name": "python3"
  },
  "language_info": {
   "codemirror_mode": {
    "name": "ipython",
    "version": 3
   },
   "file_extension": ".py",
   "mimetype": "text/x-python",
   "name": "python",
   "nbconvert_exporter": "python",
   "pygments_lexer": "ipython3",
   "version": "3.11.5"
  }
 },
 "nbformat": 4,
 "nbformat_minor": 5
}
